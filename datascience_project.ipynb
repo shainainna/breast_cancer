{
 "cells": [
  {
   "cell_type": "code",
   "execution_count": 1,
   "id": "3473c606",
   "metadata": {},
   "outputs": [],
   "source": [
    "import pandas as pd\n",
    "import seaborn as sns\n",
    "import matplotlib.pyplot as plt\n",
    "from scipy import stats\n"
   ]
  },
  {
   "cell_type": "code",
   "execution_count": 2,
   "id": "22233907",
   "metadata": {
    "scrolled": true
   },
   "outputs": [
    {
     "data": {
      "text/html": [
       "<div>\n",
       "<style scoped>\n",
       "    .dataframe tbody tr th:only-of-type {\n",
       "        vertical-align: middle;\n",
       "    }\n",
       "\n",
       "    .dataframe tbody tr th {\n",
       "        vertical-align: top;\n",
       "    }\n",
       "\n",
       "    .dataframe thead th {\n",
       "        text-align: right;\n",
       "    }\n",
       "</style>\n",
       "<table border=\"1\" class=\"dataframe\">\n",
       "  <thead>\n",
       "    <tr style=\"text-align: right;\">\n",
       "      <th></th>\n",
       "      <th>date</th>\n",
       "      <th>courier_partners_online</th>\n",
       "      <th>temperature</th>\n",
       "      <th>relative_humidity</th>\n",
       "      <th>precipitation</th>\n",
       "    </tr>\n",
       "  </thead>\n",
       "  <tbody>\n",
       "    <tr>\n",
       "      <th>0</th>\n",
       "      <td>2021-05-01</td>\n",
       "      <td>49</td>\n",
       "      <td>18.27</td>\n",
       "      <td>0.57</td>\n",
       "      <td>0.00</td>\n",
       "    </tr>\n",
       "    <tr>\n",
       "      <th>1</th>\n",
       "      <td>2021-05-02</td>\n",
       "      <td>927</td>\n",
       "      <td>19.88</td>\n",
       "      <td>0.55</td>\n",
       "      <td>0.00</td>\n",
       "    </tr>\n",
       "    <tr>\n",
       "      <th>2</th>\n",
       "      <td>2021-05-03</td>\n",
       "      <td>40</td>\n",
       "      <td>16.88</td>\n",
       "      <td>0.60</td>\n",
       "      <td>0.00</td>\n",
       "    </tr>\n",
       "    <tr>\n",
       "      <th>3</th>\n",
       "      <td>2021-05-04</td>\n",
       "      <td>51</td>\n",
       "      <td>21.88</td>\n",
       "      <td>0.53</td>\n",
       "      <td>0.00</td>\n",
       "    </tr>\n",
       "    <tr>\n",
       "      <th>4</th>\n",
       "      <td>2021-05-05</td>\n",
       "      <td>50</td>\n",
       "      <td>21.11</td>\n",
       "      <td>0.54</td>\n",
       "      <td>0.00</td>\n",
       "    </tr>\n",
       "    <tr>\n",
       "      <th>...</th>\n",
       "      <td>...</td>\n",
       "      <td>...</td>\n",
       "      <td>...</td>\n",
       "      <td>...</td>\n",
       "      <td>...</td>\n",
       "    </tr>\n",
       "    <tr>\n",
       "      <th>756</th>\n",
       "      <td>2023-05-27</td>\n",
       "      <td>70</td>\n",
       "      <td>19.22</td>\n",
       "      <td>0.56</td>\n",
       "      <td>0.00</td>\n",
       "    </tr>\n",
       "    <tr>\n",
       "      <th>757</th>\n",
       "      <td>2023-05-28</td>\n",
       "      <td>76</td>\n",
       "      <td>27.26</td>\n",
       "      <td>0.64</td>\n",
       "      <td>0.41</td>\n",
       "    </tr>\n",
       "    <tr>\n",
       "      <th>758</th>\n",
       "      <td>2023-05-29</td>\n",
       "      <td>73</td>\n",
       "      <td>NaN</td>\n",
       "      <td>0.62</td>\n",
       "      <td>0.80</td>\n",
       "    </tr>\n",
       "    <tr>\n",
       "      <th>759</th>\n",
       "      <td>2023-05-30</td>\n",
       "      <td>81</td>\n",
       "      <td>18.35</td>\n",
       "      <td>0.57</td>\n",
       "      <td>0.00</td>\n",
       "    </tr>\n",
       "    <tr>\n",
       "      <th>760</th>\n",
       "      <td>2023-05-31</td>\n",
       "      <td>76</td>\n",
       "      <td>15.56</td>\n",
       "      <td>0.62</td>\n",
       "      <td>1.16</td>\n",
       "    </tr>\n",
       "  </tbody>\n",
       "</table>\n",
       "<p>761 rows × 5 columns</p>\n",
       "</div>"
      ],
      "text/plain": [
       "           date  courier_partners_online  temperature  relative_humidity  \\\n",
       "0    2021-05-01                       49        18.27               0.57   \n",
       "1    2021-05-02                      927        19.88               0.55   \n",
       "2    2021-05-03                       40        16.88               0.60   \n",
       "3    2021-05-04                       51        21.88               0.53   \n",
       "4    2021-05-05                       50        21.11               0.54   \n",
       "..          ...                      ...          ...                ...   \n",
       "756  2023-05-27                       70        19.22               0.56   \n",
       "757  2023-05-28                       76        27.26               0.64   \n",
       "758  2023-05-29                       73          NaN               0.62   \n",
       "759  2023-05-30                       81        18.35               0.57   \n",
       "760  2023-05-31                       76        15.56               0.62   \n",
       "\n",
       "     precipitation  \n",
       "0             0.00  \n",
       "1             0.00  \n",
       "2             0.00  \n",
       "3             0.00  \n",
       "4             0.00  \n",
       "..             ...  \n",
       "756           0.00  \n",
       "757           0.41  \n",
       "758           0.80  \n",
       "759           0.00  \n",
       "760           1.16  \n",
       "\n",
       "[761 rows x 5 columns]"
      ]
     },
     "execution_count": 2,
     "metadata": {},
     "output_type": "execute_result"
    }
   ],
   "source": [
    "data= pd.read_csv(\"daily_cp_activity_dataset.csv\")\n",
    "data"
   ]
  },
  {
   "cell_type": "code",
   "execution_count": 3,
   "id": "1d6d323c",
   "metadata": {},
   "outputs": [
    {
     "name": "stdout",
     "output_type": "stream",
     "text": [
      "<class 'pandas.core.frame.DataFrame'>\n",
      "RangeIndex: 761 entries, 0 to 760\n",
      "Data columns (total 5 columns):\n",
      " #   Column                   Non-Null Count  Dtype  \n",
      "---  ------                   --------------  -----  \n",
      " 0   date                     761 non-null    object \n",
      " 1   courier_partners_online  761 non-null    int64  \n",
      " 2   temperature              731 non-null    float64\n",
      " 3   relative_humidity        761 non-null    float64\n",
      " 4   precipitation            756 non-null    float64\n",
      "dtypes: float64(3), int64(1), object(1)\n",
      "memory usage: 29.9+ KB\n"
     ]
    }
   ],
   "source": [
    "data.info()"
   ]
  },
  {
   "cell_type": "code",
   "execution_count": 4,
   "id": "9584e53a",
   "metadata": {},
   "outputs": [
    {
     "data": {
      "text/plain": [
       "date                        0\n",
       "courier_partners_online     0\n",
       "temperature                30\n",
       "relative_humidity           0\n",
       "precipitation               5\n",
       "dtype: int64"
      ]
     },
     "execution_count": 4,
     "metadata": {},
     "output_type": "execute_result"
    }
   ],
   "source": [
    "data.isnull().sum()"
   ]
  },
  {
   "cell_type": "code",
   "execution_count": 5,
   "id": "704614b9",
   "metadata": {},
   "outputs": [],
   "source": [
    "#datatypes are string"
   ]
  },
  {
   "cell_type": "code",
   "execution_count": 6,
   "id": "3821369f",
   "metadata": {},
   "outputs": [
    {
     "data": {
      "text/html": [
       "<div>\n",
       "<style scoped>\n",
       "    .dataframe tbody tr th:only-of-type {\n",
       "        vertical-align: middle;\n",
       "    }\n",
       "\n",
       "    .dataframe tbody tr th {\n",
       "        vertical-align: top;\n",
       "    }\n",
       "\n",
       "    .dataframe thead th {\n",
       "        text-align: right;\n",
       "    }\n",
       "</style>\n",
       "<table border=\"1\" class=\"dataframe\">\n",
       "  <thead>\n",
       "    <tr style=\"text-align: right;\">\n",
       "      <th></th>\n",
       "      <th>date</th>\n",
       "      <th>courier_partners_online</th>\n",
       "      <th>temperature</th>\n",
       "      <th>relative_humidity</th>\n",
       "      <th>precipitation</th>\n",
       "    </tr>\n",
       "  </thead>\n",
       "  <tbody>\n",
       "    <tr>\n",
       "      <th>16</th>\n",
       "      <td>2021-05-17</td>\n",
       "      <td>47</td>\n",
       "      <td>14.97</td>\n",
       "      <td>0.63</td>\n",
       "      <td>0.40</td>\n",
       "    </tr>\n",
       "    <tr>\n",
       "      <th>117</th>\n",
       "      <td>2021-08-26</td>\n",
       "      <td>58</td>\n",
       "      <td>25.02</td>\n",
       "      <td>0.60</td>\n",
       "      <td>4.48</td>\n",
       "    </tr>\n",
       "    <tr>\n",
       "      <th>409</th>\n",
       "      <td>2022-06-14</td>\n",
       "      <td>73</td>\n",
       "      <td>16.05</td>\n",
       "      <td>0.61</td>\n",
       "      <td>0.44</td>\n",
       "    </tr>\n",
       "    <tr>\n",
       "      <th>624</th>\n",
       "      <td>2023-01-15</td>\n",
       "      <td>53</td>\n",
       "      <td>-7.07</td>\n",
       "      <td>0.94</td>\n",
       "      <td>8.52</td>\n",
       "    </tr>\n",
       "    <tr>\n",
       "      <th>226</th>\n",
       "      <td>2021-12-13</td>\n",
       "      <td>55</td>\n",
       "      <td>9.27</td>\n",
       "      <td>0.84</td>\n",
       "      <td>2.98</td>\n",
       "    </tr>\n",
       "  </tbody>\n",
       "</table>\n",
       "</div>"
      ],
      "text/plain": [
       "           date  courier_partners_online  temperature  relative_humidity  \\\n",
       "16   2021-05-17                       47        14.97               0.63   \n",
       "117  2021-08-26                       58        25.02               0.60   \n",
       "409  2022-06-14                       73        16.05               0.61   \n",
       "624  2023-01-15                       53        -7.07               0.94   \n",
       "226  2021-12-13                       55         9.27               0.84   \n",
       "\n",
       "     precipitation  \n",
       "16            0.40  \n",
       "117           4.48  \n",
       "409           0.44  \n",
       "624           8.52  \n",
       "226           2.98  "
      ]
     },
     "execution_count": 6,
     "metadata": {},
     "output_type": "execute_result"
    }
   ],
   "source": [
    "data.sample(5)"
   ]
  },
  {
   "cell_type": "code",
   "execution_count": 7,
   "id": "84b67875",
   "metadata": {},
   "outputs": [
    {
     "data": {
      "text/html": [
       "<div>\n",
       "<style scoped>\n",
       "    .dataframe tbody tr th:only-of-type {\n",
       "        vertical-align: middle;\n",
       "    }\n",
       "\n",
       "    .dataframe tbody tr th {\n",
       "        vertical-align: top;\n",
       "    }\n",
       "\n",
       "    .dataframe thead th {\n",
       "        text-align: right;\n",
       "    }\n",
       "</style>\n",
       "<table border=\"1\" class=\"dataframe\">\n",
       "  <thead>\n",
       "    <tr style=\"text-align: right;\">\n",
       "      <th></th>\n",
       "      <th>date</th>\n",
       "      <th>courier_partners_online</th>\n",
       "      <th>temperature</th>\n",
       "      <th>relative_humidity</th>\n",
       "      <th>precipitation</th>\n",
       "    </tr>\n",
       "  </thead>\n",
       "  <tbody>\n",
       "    <tr>\n",
       "      <th>0</th>\n",
       "      <td>2021-05-01</td>\n",
       "      <td>49</td>\n",
       "      <td>18.27</td>\n",
       "      <td>0.57</td>\n",
       "      <td>0.00</td>\n",
       "    </tr>\n",
       "    <tr>\n",
       "      <th>1</th>\n",
       "      <td>2021-05-02</td>\n",
       "      <td>927</td>\n",
       "      <td>19.88</td>\n",
       "      <td>0.55</td>\n",
       "      <td>0.00</td>\n",
       "    </tr>\n",
       "    <tr>\n",
       "      <th>2</th>\n",
       "      <td>2021-05-03</td>\n",
       "      <td>40</td>\n",
       "      <td>16.88</td>\n",
       "      <td>0.60</td>\n",
       "      <td>0.00</td>\n",
       "    </tr>\n",
       "    <tr>\n",
       "      <th>3</th>\n",
       "      <td>2021-05-04</td>\n",
       "      <td>51</td>\n",
       "      <td>21.88</td>\n",
       "      <td>0.53</td>\n",
       "      <td>0.00</td>\n",
       "    </tr>\n",
       "    <tr>\n",
       "      <th>4</th>\n",
       "      <td>2021-05-05</td>\n",
       "      <td>50</td>\n",
       "      <td>21.11</td>\n",
       "      <td>0.54</td>\n",
       "      <td>0.00</td>\n",
       "    </tr>\n",
       "    <tr>\n",
       "      <th>...</th>\n",
       "      <td>...</td>\n",
       "      <td>...</td>\n",
       "      <td>...</td>\n",
       "      <td>...</td>\n",
       "      <td>...</td>\n",
       "    </tr>\n",
       "    <tr>\n",
       "      <th>756</th>\n",
       "      <td>2023-05-27</td>\n",
       "      <td>70</td>\n",
       "      <td>19.22</td>\n",
       "      <td>0.56</td>\n",
       "      <td>0.00</td>\n",
       "    </tr>\n",
       "    <tr>\n",
       "      <th>757</th>\n",
       "      <td>2023-05-28</td>\n",
       "      <td>76</td>\n",
       "      <td>27.26</td>\n",
       "      <td>0.64</td>\n",
       "      <td>0.41</td>\n",
       "    </tr>\n",
       "    <tr>\n",
       "      <th>758</th>\n",
       "      <td>2023-05-29</td>\n",
       "      <td>73</td>\n",
       "      <td>NaN</td>\n",
       "      <td>0.62</td>\n",
       "      <td>0.80</td>\n",
       "    </tr>\n",
       "    <tr>\n",
       "      <th>759</th>\n",
       "      <td>2023-05-30</td>\n",
       "      <td>81</td>\n",
       "      <td>18.35</td>\n",
       "      <td>0.57</td>\n",
       "      <td>0.00</td>\n",
       "    </tr>\n",
       "    <tr>\n",
       "      <th>760</th>\n",
       "      <td>2023-05-31</td>\n",
       "      <td>76</td>\n",
       "      <td>15.56</td>\n",
       "      <td>0.62</td>\n",
       "      <td>1.16</td>\n",
       "    </tr>\n",
       "  </tbody>\n",
       "</table>\n",
       "<p>761 rows × 5 columns</p>\n",
       "</div>"
      ],
      "text/plain": [
       "          date  courier_partners_online  temperature  relative_humidity  \\\n",
       "0   2021-05-01                       49        18.27               0.57   \n",
       "1   2021-05-02                      927        19.88               0.55   \n",
       "2   2021-05-03                       40        16.88               0.60   \n",
       "3   2021-05-04                       51        21.88               0.53   \n",
       "4   2021-05-05                       50        21.11               0.54   \n",
       "..         ...                      ...          ...                ...   \n",
       "756 2023-05-27                       70        19.22               0.56   \n",
       "757 2023-05-28                       76        27.26               0.64   \n",
       "758 2023-05-29                       73          NaN               0.62   \n",
       "759 2023-05-30                       81        18.35               0.57   \n",
       "760 2023-05-31                       76        15.56               0.62   \n",
       "\n",
       "     precipitation  \n",
       "0             0.00  \n",
       "1             0.00  \n",
       "2             0.00  \n",
       "3             0.00  \n",
       "4             0.00  \n",
       "..             ...  \n",
       "756           0.00  \n",
       "757           0.41  \n",
       "758           0.80  \n",
       "759           0.00  \n",
       "760           1.16  \n",
       "\n",
       "[761 rows x 5 columns]"
      ]
     },
     "execution_count": 7,
     "metadata": {},
     "output_type": "execute_result"
    }
   ],
   "source": [
    "data['date']=pd.to_datetime(data['date'])\n",
    "data"
   ]
  },
  {
   "cell_type": "code",
   "execution_count": 8,
   "id": "41b24690",
   "metadata": {},
   "outputs": [
    {
     "name": "stdout",
     "output_type": "stream",
     "text": [
      "<class 'pandas.core.frame.DataFrame'>\n",
      "RangeIndex: 761 entries, 0 to 760\n",
      "Data columns (total 5 columns):\n",
      " #   Column                   Non-Null Count  Dtype         \n",
      "---  ------                   --------------  -----         \n",
      " 0   date                     761 non-null    datetime64[ns]\n",
      " 1   courier_partners_online  761 non-null    int64         \n",
      " 2   temperature              731 non-null    float64       \n",
      " 3   relative_humidity        761 non-null    float64       \n",
      " 4   precipitation            756 non-null    float64       \n",
      "dtypes: datetime64[ns](1), float64(3), int64(1)\n",
      "memory usage: 29.9 KB\n"
     ]
    }
   ],
   "source": [
    "data.info()"
   ]
  },
  {
   "cell_type": "code",
   "execution_count": 9,
   "id": "3a145f5c",
   "metadata": {},
   "outputs": [],
   "source": [
    "#now timestamp is converted to datetime datatype"
   ]
  },
  {
   "cell_type": "code",
   "execution_count": 10,
   "id": "680a4828",
   "metadata": {
    "scrolled": false
   },
   "outputs": [
    {
     "data": {
      "text/html": [
       "<div>\n",
       "<style scoped>\n",
       "    .dataframe tbody tr th:only-of-type {\n",
       "        vertical-align: middle;\n",
       "    }\n",
       "\n",
       "    .dataframe tbody tr th {\n",
       "        vertical-align: top;\n",
       "    }\n",
       "\n",
       "    .dataframe thead th {\n",
       "        text-align: right;\n",
       "    }\n",
       "</style>\n",
       "<table border=\"1\" class=\"dataframe\">\n",
       "  <thead>\n",
       "    <tr style=\"text-align: right;\">\n",
       "      <th></th>\n",
       "      <th>date</th>\n",
       "      <th>courier_partners_online</th>\n",
       "      <th>temperature</th>\n",
       "      <th>relative_humidity</th>\n",
       "      <th>precipitation</th>\n",
       "    </tr>\n",
       "  </thead>\n",
       "  <tbody>\n",
       "    <tr>\n",
       "      <th>count</th>\n",
       "      <td>761</td>\n",
       "      <td>761.000000</td>\n",
       "      <td>731.000000</td>\n",
       "      <td>761.000000</td>\n",
       "      <td>756.000000</td>\n",
       "    </tr>\n",
       "    <tr>\n",
       "      <th>mean</th>\n",
       "      <td>2022-05-16 00:00:00</td>\n",
       "      <td>72.417871</td>\n",
       "      <td>17.532585</td>\n",
       "      <td>0.653193</td>\n",
       "      <td>0.914735</td>\n",
       "    </tr>\n",
       "    <tr>\n",
       "      <th>min</th>\n",
       "      <td>2021-05-01 00:00:00</td>\n",
       "      <td>34.000000</td>\n",
       "      <td>-9.980000</td>\n",
       "      <td>0.430000</td>\n",
       "      <td>0.000000</td>\n",
       "    </tr>\n",
       "    <tr>\n",
       "      <th>25%</th>\n",
       "      <td>2021-11-07 00:00:00</td>\n",
       "      <td>58.000000</td>\n",
       "      <td>10.930000</td>\n",
       "      <td>0.520000</td>\n",
       "      <td>0.000000</td>\n",
       "    </tr>\n",
       "    <tr>\n",
       "      <th>50%</th>\n",
       "      <td>2022-05-16 00:00:00</td>\n",
       "      <td>66.000000</td>\n",
       "      <td>18.630000</td>\n",
       "      <td>0.590000</td>\n",
       "      <td>0.000000</td>\n",
       "    </tr>\n",
       "    <tr>\n",
       "      <th>75%</th>\n",
       "      <td>2022-11-22 00:00:00</td>\n",
       "      <td>72.000000</td>\n",
       "      <td>24.410000</td>\n",
       "      <td>0.790000</td>\n",
       "      <td>0.910000</td>\n",
       "    </tr>\n",
       "    <tr>\n",
       "      <th>max</th>\n",
       "      <td>2023-05-31 00:00:00</td>\n",
       "      <td>1506.000000</td>\n",
       "      <td>37.950000</td>\n",
       "      <td>1.000000</td>\n",
       "      <td>12.900000</td>\n",
       "    </tr>\n",
       "    <tr>\n",
       "      <th>std</th>\n",
       "      <td>NaN</td>\n",
       "      <td>96.039679</td>\n",
       "      <td>10.007564</td>\n",
       "      <td>0.171553</td>\n",
       "      <td>1.749988</td>\n",
       "    </tr>\n",
       "  </tbody>\n",
       "</table>\n",
       "</div>"
      ],
      "text/plain": [
       "                      date  courier_partners_online  temperature  \\\n",
       "count                  761               761.000000   731.000000   \n",
       "mean   2022-05-16 00:00:00                72.417871    17.532585   \n",
       "min    2021-05-01 00:00:00                34.000000    -9.980000   \n",
       "25%    2021-11-07 00:00:00                58.000000    10.930000   \n",
       "50%    2022-05-16 00:00:00                66.000000    18.630000   \n",
       "75%    2022-11-22 00:00:00                72.000000    24.410000   \n",
       "max    2023-05-31 00:00:00              1506.000000    37.950000   \n",
       "std                    NaN                96.039679    10.007564   \n",
       "\n",
       "       relative_humidity  precipitation  \n",
       "count         761.000000     756.000000  \n",
       "mean            0.653193       0.914735  \n",
       "min             0.430000       0.000000  \n",
       "25%             0.520000       0.000000  \n",
       "50%             0.590000       0.000000  \n",
       "75%             0.790000       0.910000  \n",
       "max             1.000000      12.900000  \n",
       "std             0.171553       1.749988  "
      ]
     },
     "execution_count": 10,
     "metadata": {},
     "output_type": "execute_result"
    }
   ],
   "source": [
    "data.describe()"
   ]
  },
  {
   "cell_type": "code",
   "execution_count": 11,
   "id": "d1f5cd19",
   "metadata": {},
   "outputs": [
    {
     "data": {
      "text/html": [
       "<div>\n",
       "<style scoped>\n",
       "    .dataframe tbody tr th:only-of-type {\n",
       "        vertical-align: middle;\n",
       "    }\n",
       "\n",
       "    .dataframe tbody tr th {\n",
       "        vertical-align: top;\n",
       "    }\n",
       "\n",
       "    .dataframe thead th {\n",
       "        text-align: right;\n",
       "    }\n",
       "</style>\n",
       "<table border=\"1\" class=\"dataframe\">\n",
       "  <thead>\n",
       "    <tr style=\"text-align: right;\">\n",
       "      <th></th>\n",
       "      <th>date</th>\n",
       "      <th>courier_partners_online</th>\n",
       "      <th>temperature</th>\n",
       "      <th>relative_humidity</th>\n",
       "      <th>precipitation</th>\n",
       "    </tr>\n",
       "  </thead>\n",
       "  <tbody>\n",
       "    <tr>\n",
       "      <th>0</th>\n",
       "      <td>2021-05-01</td>\n",
       "      <td>49</td>\n",
       "      <td>18.270000</td>\n",
       "      <td>0.57</td>\n",
       "      <td>0.00</td>\n",
       "    </tr>\n",
       "    <tr>\n",
       "      <th>1</th>\n",
       "      <td>2021-05-02</td>\n",
       "      <td>927</td>\n",
       "      <td>19.880000</td>\n",
       "      <td>0.55</td>\n",
       "      <td>0.00</td>\n",
       "    </tr>\n",
       "    <tr>\n",
       "      <th>2</th>\n",
       "      <td>2021-05-03</td>\n",
       "      <td>40</td>\n",
       "      <td>16.880000</td>\n",
       "      <td>0.60</td>\n",
       "      <td>0.00</td>\n",
       "    </tr>\n",
       "    <tr>\n",
       "      <th>3</th>\n",
       "      <td>2021-05-04</td>\n",
       "      <td>51</td>\n",
       "      <td>21.880000</td>\n",
       "      <td>0.53</td>\n",
       "      <td>0.00</td>\n",
       "    </tr>\n",
       "    <tr>\n",
       "      <th>4</th>\n",
       "      <td>2021-05-05</td>\n",
       "      <td>50</td>\n",
       "      <td>21.110000</td>\n",
       "      <td>0.54</td>\n",
       "      <td>0.00</td>\n",
       "    </tr>\n",
       "    <tr>\n",
       "      <th>...</th>\n",
       "      <td>...</td>\n",
       "      <td>...</td>\n",
       "      <td>...</td>\n",
       "      <td>...</td>\n",
       "      <td>...</td>\n",
       "    </tr>\n",
       "    <tr>\n",
       "      <th>756</th>\n",
       "      <td>2023-05-27</td>\n",
       "      <td>70</td>\n",
       "      <td>19.220000</td>\n",
       "      <td>0.56</td>\n",
       "      <td>0.00</td>\n",
       "    </tr>\n",
       "    <tr>\n",
       "      <th>757</th>\n",
       "      <td>2023-05-28</td>\n",
       "      <td>76</td>\n",
       "      <td>27.260000</td>\n",
       "      <td>0.64</td>\n",
       "      <td>0.41</td>\n",
       "    </tr>\n",
       "    <tr>\n",
       "      <th>758</th>\n",
       "      <td>2023-05-29</td>\n",
       "      <td>73</td>\n",
       "      <td>17.532585</td>\n",
       "      <td>0.62</td>\n",
       "      <td>0.80</td>\n",
       "    </tr>\n",
       "    <tr>\n",
       "      <th>759</th>\n",
       "      <td>2023-05-30</td>\n",
       "      <td>81</td>\n",
       "      <td>18.350000</td>\n",
       "      <td>0.57</td>\n",
       "      <td>0.00</td>\n",
       "    </tr>\n",
       "    <tr>\n",
       "      <th>760</th>\n",
       "      <td>2023-05-31</td>\n",
       "      <td>76</td>\n",
       "      <td>15.560000</td>\n",
       "      <td>0.62</td>\n",
       "      <td>1.16</td>\n",
       "    </tr>\n",
       "  </tbody>\n",
       "</table>\n",
       "<p>761 rows × 5 columns</p>\n",
       "</div>"
      ],
      "text/plain": [
       "          date  courier_partners_online  temperature  relative_humidity  \\\n",
       "0   2021-05-01                       49    18.270000               0.57   \n",
       "1   2021-05-02                      927    19.880000               0.55   \n",
       "2   2021-05-03                       40    16.880000               0.60   \n",
       "3   2021-05-04                       51    21.880000               0.53   \n",
       "4   2021-05-05                       50    21.110000               0.54   \n",
       "..         ...                      ...          ...                ...   \n",
       "756 2023-05-27                       70    19.220000               0.56   \n",
       "757 2023-05-28                       76    27.260000               0.64   \n",
       "758 2023-05-29                       73    17.532585               0.62   \n",
       "759 2023-05-30                       81    18.350000               0.57   \n",
       "760 2023-05-31                       76    15.560000               0.62   \n",
       "\n",
       "     precipitation  \n",
       "0             0.00  \n",
       "1             0.00  \n",
       "2             0.00  \n",
       "3             0.00  \n",
       "4             0.00  \n",
       "..             ...  \n",
       "756           0.00  \n",
       "757           0.41  \n",
       "758           0.80  \n",
       "759           0.00  \n",
       "760           1.16  \n",
       "\n",
       "[761 rows x 5 columns]"
      ]
     },
     "execution_count": 11,
     "metadata": {},
     "output_type": "execute_result"
    }
   ],
   "source": [
    "x=data['temperature'].mean()\n",
    "y=data['precipitation'].mean()\n",
    "data['temperature'].fillna(x,inplace=True)\n",
    "data['precipitation'].fillna(y,inplace=True)\n",
    "data"
   ]
  },
  {
   "cell_type": "code",
   "execution_count": 12,
   "id": "c3ed5133",
   "metadata": {},
   "outputs": [
    {
     "data": {
      "text/plain": [
       "date                       0\n",
       "courier_partners_online    0\n",
       "temperature                0\n",
       "relative_humidity          0\n",
       "precipitation              0\n",
       "dtype: int64"
      ]
     },
     "execution_count": 12,
     "metadata": {},
     "output_type": "execute_result"
    }
   ],
   "source": [
    "data.isnull().sum()"
   ]
  },
  {
   "cell_type": "code",
   "execution_count": 13,
   "id": "f9d7a16f",
   "metadata": {},
   "outputs": [],
   "source": [
    "#Hence null values are replaced by mean"
   ]
  },
  {
   "cell_type": "code",
   "execution_count": 14,
   "id": "058db79a",
   "metadata": {},
   "outputs": [
    {
     "data": {
      "text/plain": [
       "<Axes: >"
      ]
     },
     "execution_count": 14,
     "metadata": {},
     "output_type": "execute_result"
    },
    {
     "data": {
      "image/png": "[encoded data removed]",
      "text/plain": [
       "<Figure size 1000x500 with 2 Axes>"
      ]
     },
     "metadata": {},
     "output_type": "display_data"
    }
   ],
   "source": [
    "plt.figure(figsize=(10,5))\n",
    "data.corr()\n",
    "sns.heatmap(data.corr(),linewidth=4,cmap='gnuplot',linecolor='k',annot=True)"
   ]
  },
  {
   "cell_type": "code",
   "execution_count": 15,
   "id": "1d9ee023",
   "metadata": {},
   "outputs": [],
   "source": [
    "#temperature is highly correlated to humidity\n",
    "#humidity and precipitation is also correlated"
   ]
  },
  {
   "cell_type": "markdown",
   "id": "5c86e3df",
   "metadata": {},
   "source": [
    "# Detecting outliers"
   ]
  },
  {
   "cell_type": "code",
   "execution_count": 16,
   "id": "29b6d7b6",
   "metadata": {},
   "outputs": [
    {
     "data": {
      "text/plain": [
       "<Axes: >"
      ]
     },
     "execution_count": 16,
     "metadata": {},
     "output_type": "execute_result"
    },
    {
     "data": {
      "image/png": "[encoded data removed]",
      "text/plain": [
       "<Figure size 640x480 with 1 Axes>"
      ]
     },
     "metadata": {},
     "output_type": "display_data"
    }
   ],
   "source": [
    "sns.boxplot(data)"
   ]
  },
  {
   "cell_type": "code",
   "execution_count": 17,
   "id": "5fce57a3",
   "metadata": {},
   "outputs": [],
   "source": [
    "#outliers can be seen in courier partner online column"
   ]
  },
  {
   "cell_type": "code",
   "execution_count": 18,
   "id": "65da2ee4",
   "metadata": {},
   "outputs": [
    {
     "data": {
      "text/html": [
       "<div>\n",
       "<style scoped>\n",
       "    .dataframe tbody tr th:only-of-type {\n",
       "        vertical-align: middle;\n",
       "    }\n",
       "\n",
       "    .dataframe tbody tr th {\n",
       "        vertical-align: top;\n",
       "    }\n",
       "\n",
       "    .dataframe thead th {\n",
       "        text-align: right;\n",
       "    }\n",
       "</style>\n",
       "<table border=\"1\" class=\"dataframe\">\n",
       "  <thead>\n",
       "    <tr style=\"text-align: right;\">\n",
       "      <th></th>\n",
       "      <th>date</th>\n",
       "      <th>courier_partners_online</th>\n",
       "      <th>temperature</th>\n",
       "      <th>relative_humidity</th>\n",
       "      <th>precipitation</th>\n",
       "      <th>outliers</th>\n",
       "    </tr>\n",
       "  </thead>\n",
       "  <tbody>\n",
       "    <tr>\n",
       "      <th>0</th>\n",
       "      <td>2021-05-01</td>\n",
       "      <td>49</td>\n",
       "      <td>18.270000</td>\n",
       "      <td>0.57</td>\n",
       "      <td>0.00</td>\n",
       "      <td>1</td>\n",
       "    </tr>\n",
       "    <tr>\n",
       "      <th>1</th>\n",
       "      <td>2021-05-02</td>\n",
       "      <td>927</td>\n",
       "      <td>19.880000</td>\n",
       "      <td>0.55</td>\n",
       "      <td>0.00</td>\n",
       "      <td>-1</td>\n",
       "    </tr>\n",
       "    <tr>\n",
       "      <th>2</th>\n",
       "      <td>2021-05-03</td>\n",
       "      <td>40</td>\n",
       "      <td>16.880000</td>\n",
       "      <td>0.60</td>\n",
       "      <td>0.00</td>\n",
       "      <td>1</td>\n",
       "    </tr>\n",
       "    <tr>\n",
       "      <th>3</th>\n",
       "      <td>2021-05-04</td>\n",
       "      <td>51</td>\n",
       "      <td>21.880000</td>\n",
       "      <td>0.53</td>\n",
       "      <td>0.00</td>\n",
       "      <td>1</td>\n",
       "    </tr>\n",
       "    <tr>\n",
       "      <th>4</th>\n",
       "      <td>2021-05-05</td>\n",
       "      <td>50</td>\n",
       "      <td>21.110000</td>\n",
       "      <td>0.54</td>\n",
       "      <td>0.00</td>\n",
       "      <td>1</td>\n",
       "    </tr>\n",
       "    <tr>\n",
       "      <th>...</th>\n",
       "      <td>...</td>\n",
       "      <td>...</td>\n",
       "      <td>...</td>\n",
       "      <td>...</td>\n",
       "      <td>...</td>\n",
       "      <td>...</td>\n",
       "    </tr>\n",
       "    <tr>\n",
       "      <th>756</th>\n",
       "      <td>2023-05-27</td>\n",
       "      <td>70</td>\n",
       "      <td>19.220000</td>\n",
       "      <td>0.56</td>\n",
       "      <td>0.00</td>\n",
       "      <td>1</td>\n",
       "    </tr>\n",
       "    <tr>\n",
       "      <th>757</th>\n",
       "      <td>2023-05-28</td>\n",
       "      <td>76</td>\n",
       "      <td>27.260000</td>\n",
       "      <td>0.64</td>\n",
       "      <td>0.41</td>\n",
       "      <td>1</td>\n",
       "    </tr>\n",
       "    <tr>\n",
       "      <th>758</th>\n",
       "      <td>2023-05-29</td>\n",
       "      <td>73</td>\n",
       "      <td>17.532585</td>\n",
       "      <td>0.62</td>\n",
       "      <td>0.80</td>\n",
       "      <td>1</td>\n",
       "    </tr>\n",
       "    <tr>\n",
       "      <th>759</th>\n",
       "      <td>2023-05-30</td>\n",
       "      <td>81</td>\n",
       "      <td>18.350000</td>\n",
       "      <td>0.57</td>\n",
       "      <td>0.00</td>\n",
       "      <td>1</td>\n",
       "    </tr>\n",
       "    <tr>\n",
       "      <th>760</th>\n",
       "      <td>2023-05-31</td>\n",
       "      <td>76</td>\n",
       "      <td>15.560000</td>\n",
       "      <td>0.62</td>\n",
       "      <td>1.16</td>\n",
       "      <td>1</td>\n",
       "    </tr>\n",
       "  </tbody>\n",
       "</table>\n",
       "<p>761 rows × 6 columns</p>\n",
       "</div>"
      ],
      "text/plain": [
       "          date  courier_partners_online  temperature  relative_humidity  \\\n",
       "0   2021-05-01                       49    18.270000               0.57   \n",
       "1   2021-05-02                      927    19.880000               0.55   \n",
       "2   2021-05-03                       40    16.880000               0.60   \n",
       "3   2021-05-04                       51    21.880000               0.53   \n",
       "4   2021-05-05                       50    21.110000               0.54   \n",
       "..         ...                      ...          ...                ...   \n",
       "756 2023-05-27                       70    19.220000               0.56   \n",
       "757 2023-05-28                       76    27.260000               0.64   \n",
       "758 2023-05-29                       73    17.532585               0.62   \n",
       "759 2023-05-30                       81    18.350000               0.57   \n",
       "760 2023-05-31                       76    15.560000               0.62   \n",
       "\n",
       "     precipitation  outliers  \n",
       "0             0.00         1  \n",
       "1             0.00        -1  \n",
       "2             0.00         1  \n",
       "3             0.00         1  \n",
       "4             0.00         1  \n",
       "..             ...       ...  \n",
       "756           0.00         1  \n",
       "757           0.41         1  \n",
       "758           0.80         1  \n",
       "759           0.00         1  \n",
       "760           1.16         1  \n",
       "\n",
       "[761 rows x 6 columns]"
      ]
     },
     "execution_count": 18,
     "metadata": {},
     "output_type": "execute_result"
    }
   ],
   "source": [
    "from sklearn.ensemble import IsolationForest\n",
    "iso_forest=IsolationForest(n_estimators=100,contamination=0.01)\n",
    "data['outliers']=iso_forest.fit_predict(data[['courier_partners_online']])\n",
    "data"
   ]
  },
  {
   "cell_type": "code",
   "execution_count": 19,
   "id": "4348a64f",
   "metadata": {},
   "outputs": [
    {
     "name": "stdout",
     "output_type": "stream",
     "text": [
      "outliers\n",
      " 1    753\n",
      "-1      8\n",
      "Name: count, dtype: int64\n"
     ]
    }
   ],
   "source": [
    "print(data['outliers'].value_counts())"
   ]
  },
  {
   "cell_type": "markdown",
   "id": "668a506e",
   "metadata": {},
   "source": [
    "# Replacing outliers using IQR method"
   ]
  },
  {
   "cell_type": "code",
   "execution_count": 20,
   "id": "5a356df4",
   "metadata": {},
   "outputs": [],
   "source": [
    "median_value = data['courier_partners_online'].median()\n",
    "# Calculate the IQR\n",
    "Q1 = data['courier_partners_online'].quantile(0.25)\n",
    "Q3 = data['courier_partners_online'].quantile(0.75)\n",
    "\n",
    "IQR = Q3 - Q1\n",
    "# Define the lower and upper bounds for outliers\n",
    "lower_bound = Q1 - 1.5 * IQR\n",
    "upper_bound = Q3 +1.5 * IQR\n",
    "\n",
    "# Replace outliers with the median\n",
    "data.loc[(data['courier_partners_online'] < lower_bound) | (data['courier_partners_online'] > upper_bound), 'courier_partners_online'] = median_value\n",
    "data.drop(columns=['outliers'],inplace=True)"
   ]
  },
  {
   "cell_type": "code",
   "execution_count": 21,
   "id": "4eca929d",
   "metadata": {},
   "outputs": [
    {
     "data": {
      "text/html": [
       "<div>\n",
       "<style scoped>\n",
       "    .dataframe tbody tr th:only-of-type {\n",
       "        vertical-align: middle;\n",
       "    }\n",
       "\n",
       "    .dataframe tbody tr th {\n",
       "        vertical-align: top;\n",
       "    }\n",
       "\n",
       "    .dataframe thead th {\n",
       "        text-align: right;\n",
       "    }\n",
       "</style>\n",
       "<table border=\"1\" class=\"dataframe\">\n",
       "  <thead>\n",
       "    <tr style=\"text-align: right;\">\n",
       "      <th></th>\n",
       "      <th>date</th>\n",
       "      <th>courier_partners_online</th>\n",
       "      <th>temperature</th>\n",
       "      <th>relative_humidity</th>\n",
       "      <th>precipitation</th>\n",
       "    </tr>\n",
       "  </thead>\n",
       "  <tbody>\n",
       "    <tr>\n",
       "      <th>0</th>\n",
       "      <td>2021-05-01</td>\n",
       "      <td>49</td>\n",
       "      <td>18.270000</td>\n",
       "      <td>0.57</td>\n",
       "      <td>0.00</td>\n",
       "    </tr>\n",
       "    <tr>\n",
       "      <th>1</th>\n",
       "      <td>2021-05-02</td>\n",
       "      <td>66</td>\n",
       "      <td>19.880000</td>\n",
       "      <td>0.55</td>\n",
       "      <td>0.00</td>\n",
       "    </tr>\n",
       "    <tr>\n",
       "      <th>2</th>\n",
       "      <td>2021-05-03</td>\n",
       "      <td>40</td>\n",
       "      <td>16.880000</td>\n",
       "      <td>0.60</td>\n",
       "      <td>0.00</td>\n",
       "    </tr>\n",
       "    <tr>\n",
       "      <th>3</th>\n",
       "      <td>2021-05-04</td>\n",
       "      <td>51</td>\n",
       "      <td>21.880000</td>\n",
       "      <td>0.53</td>\n",
       "      <td>0.00</td>\n",
       "    </tr>\n",
       "    <tr>\n",
       "      <th>4</th>\n",
       "      <td>2021-05-05</td>\n",
       "      <td>50</td>\n",
       "      <td>21.110000</td>\n",
       "      <td>0.54</td>\n",
       "      <td>0.00</td>\n",
       "    </tr>\n",
       "    <tr>\n",
       "      <th>...</th>\n",
       "      <td>...</td>\n",
       "      <td>...</td>\n",
       "      <td>...</td>\n",
       "      <td>...</td>\n",
       "      <td>...</td>\n",
       "    </tr>\n",
       "    <tr>\n",
       "      <th>756</th>\n",
       "      <td>2023-05-27</td>\n",
       "      <td>70</td>\n",
       "      <td>19.220000</td>\n",
       "      <td>0.56</td>\n",
       "      <td>0.00</td>\n",
       "    </tr>\n",
       "    <tr>\n",
       "      <th>757</th>\n",
       "      <td>2023-05-28</td>\n",
       "      <td>76</td>\n",
       "      <td>27.260000</td>\n",
       "      <td>0.64</td>\n",
       "      <td>0.41</td>\n",
       "    </tr>\n",
       "    <tr>\n",
       "      <th>758</th>\n",
       "      <td>2023-05-29</td>\n",
       "      <td>73</td>\n",
       "      <td>17.532585</td>\n",
       "      <td>0.62</td>\n",
       "      <td>0.80</td>\n",
       "    </tr>\n",
       "    <tr>\n",
       "      <th>759</th>\n",
       "      <td>2023-05-30</td>\n",
       "      <td>81</td>\n",
       "      <td>18.350000</td>\n",
       "      <td>0.57</td>\n",
       "      <td>0.00</td>\n",
       "    </tr>\n",
       "    <tr>\n",
       "      <th>760</th>\n",
       "      <td>2023-05-31</td>\n",
       "      <td>76</td>\n",
       "      <td>15.560000</td>\n",
       "      <td>0.62</td>\n",
       "      <td>1.16</td>\n",
       "    </tr>\n",
       "  </tbody>\n",
       "</table>\n",
       "<p>761 rows × 5 columns</p>\n",
       "</div>"
      ],
      "text/plain": [
       "          date  courier_partners_online  temperature  relative_humidity  \\\n",
       "0   2021-05-01                       49    18.270000               0.57   \n",
       "1   2021-05-02                       66    19.880000               0.55   \n",
       "2   2021-05-03                       40    16.880000               0.60   \n",
       "3   2021-05-04                       51    21.880000               0.53   \n",
       "4   2021-05-05                       50    21.110000               0.54   \n",
       "..         ...                      ...          ...                ...   \n",
       "756 2023-05-27                       70    19.220000               0.56   \n",
       "757 2023-05-28                       76    27.260000               0.64   \n",
       "758 2023-05-29                       73    17.532585               0.62   \n",
       "759 2023-05-30                       81    18.350000               0.57   \n",
       "760 2023-05-31                       76    15.560000               0.62   \n",
       "\n",
       "     precipitation  \n",
       "0             0.00  \n",
       "1             0.00  \n",
       "2             0.00  \n",
       "3             0.00  \n",
       "4             0.00  \n",
       "..             ...  \n",
       "756           0.00  \n",
       "757           0.41  \n",
       "758           0.80  \n",
       "759           0.00  \n",
       "760           1.16  \n",
       "\n",
       "[761 rows x 5 columns]"
      ]
     },
     "execution_count": 21,
     "metadata": {},
     "output_type": "execute_result"
    }
   ],
   "source": [
    "data"
   ]
  },
  {
   "cell_type": "markdown",
   "id": "9e0fb826",
   "metadata": {},
   "source": [
    "Extracting relevant features"
   ]
  },
  {
   "cell_type": "code",
   "execution_count": 22,
   "id": "c04fd15c",
   "metadata": {},
   "outputs": [],
   "source": [
    "data.sort_values(by='date',inplace=True)\n",
    "\n",
    "lag_intervals = [1,7,14]\n",
    "\n",
    "for lag in lag_intervals:\n",
    "    data[f'partners_online_lag{lag}']=data['courier_partners_online'].shift(lag)\n",
    "#data.dropna(inplace=True)   "
   ]
  },
  {
   "cell_type": "code",
   "execution_count": 23,
   "id": "81b85f50",
   "metadata": {},
   "outputs": [
    {
     "data": {
      "text/html": [
       "<div>\n",
       "<style scoped>\n",
       "    .dataframe tbody tr th:only-of-type {\n",
       "        vertical-align: middle;\n",
       "    }\n",
       "\n",
       "    .dataframe tbody tr th {\n",
       "        vertical-align: top;\n",
       "    }\n",
       "\n",
       "    .dataframe thead th {\n",
       "        text-align: right;\n",
       "    }\n",
       "</style>\n",
       "<table border=\"1\" class=\"dataframe\">\n",
       "  <thead>\n",
       "    <tr style=\"text-align: right;\">\n",
       "      <th></th>\n",
       "      <th>date</th>\n",
       "      <th>courier_partners_online</th>\n",
       "      <th>temperature</th>\n",
       "      <th>relative_humidity</th>\n",
       "      <th>precipitation</th>\n",
       "      <th>partners_online_lag1</th>\n",
       "      <th>partners_online_lag7</th>\n",
       "      <th>partners_online_lag14</th>\n",
       "    </tr>\n",
       "  </thead>\n",
       "  <tbody>\n",
       "    <tr>\n",
       "      <th>0</th>\n",
       "      <td>2021-05-01</td>\n",
       "      <td>49</td>\n",
       "      <td>18.270000</td>\n",
       "      <td>0.57</td>\n",
       "      <td>0.00</td>\n",
       "      <td>NaN</td>\n",
       "      <td>NaN</td>\n",
       "      <td>NaN</td>\n",
       "    </tr>\n",
       "    <tr>\n",
       "      <th>1</th>\n",
       "      <td>2021-05-02</td>\n",
       "      <td>66</td>\n",
       "      <td>19.880000</td>\n",
       "      <td>0.55</td>\n",
       "      <td>0.00</td>\n",
       "      <td>49.0</td>\n",
       "      <td>NaN</td>\n",
       "      <td>NaN</td>\n",
       "    </tr>\n",
       "    <tr>\n",
       "      <th>2</th>\n",
       "      <td>2021-05-03</td>\n",
       "      <td>40</td>\n",
       "      <td>16.880000</td>\n",
       "      <td>0.60</td>\n",
       "      <td>0.00</td>\n",
       "      <td>66.0</td>\n",
       "      <td>NaN</td>\n",
       "      <td>NaN</td>\n",
       "    </tr>\n",
       "    <tr>\n",
       "      <th>3</th>\n",
       "      <td>2021-05-04</td>\n",
       "      <td>51</td>\n",
       "      <td>21.880000</td>\n",
       "      <td>0.53</td>\n",
       "      <td>0.00</td>\n",
       "      <td>40.0</td>\n",
       "      <td>NaN</td>\n",
       "      <td>NaN</td>\n",
       "    </tr>\n",
       "    <tr>\n",
       "      <th>4</th>\n",
       "      <td>2021-05-05</td>\n",
       "      <td>50</td>\n",
       "      <td>21.110000</td>\n",
       "      <td>0.54</td>\n",
       "      <td>0.00</td>\n",
       "      <td>51.0</td>\n",
       "      <td>NaN</td>\n",
       "      <td>NaN</td>\n",
       "    </tr>\n",
       "    <tr>\n",
       "      <th>...</th>\n",
       "      <td>...</td>\n",
       "      <td>...</td>\n",
       "      <td>...</td>\n",
       "      <td>...</td>\n",
       "      <td>...</td>\n",
       "      <td>...</td>\n",
       "      <td>...</td>\n",
       "      <td>...</td>\n",
       "    </tr>\n",
       "    <tr>\n",
       "      <th>756</th>\n",
       "      <td>2023-05-27</td>\n",
       "      <td>70</td>\n",
       "      <td>19.220000</td>\n",
       "      <td>0.56</td>\n",
       "      <td>0.00</td>\n",
       "      <td>68.0</td>\n",
       "      <td>74.0</td>\n",
       "      <td>70.0</td>\n",
       "    </tr>\n",
       "    <tr>\n",
       "      <th>757</th>\n",
       "      <td>2023-05-28</td>\n",
       "      <td>76</td>\n",
       "      <td>27.260000</td>\n",
       "      <td>0.64</td>\n",
       "      <td>0.41</td>\n",
       "      <td>70.0</td>\n",
       "      <td>71.0</td>\n",
       "      <td>73.0</td>\n",
       "    </tr>\n",
       "    <tr>\n",
       "      <th>758</th>\n",
       "      <td>2023-05-29</td>\n",
       "      <td>73</td>\n",
       "      <td>17.532585</td>\n",
       "      <td>0.62</td>\n",
       "      <td>0.80</td>\n",
       "      <td>76.0</td>\n",
       "      <td>72.0</td>\n",
       "      <td>75.0</td>\n",
       "    </tr>\n",
       "    <tr>\n",
       "      <th>759</th>\n",
       "      <td>2023-05-30</td>\n",
       "      <td>81</td>\n",
       "      <td>18.350000</td>\n",
       "      <td>0.57</td>\n",
       "      <td>0.00</td>\n",
       "      <td>73.0</td>\n",
       "      <td>78.0</td>\n",
       "      <td>76.0</td>\n",
       "    </tr>\n",
       "    <tr>\n",
       "      <th>760</th>\n",
       "      <td>2023-05-31</td>\n",
       "      <td>76</td>\n",
       "      <td>15.560000</td>\n",
       "      <td>0.62</td>\n",
       "      <td>1.16</td>\n",
       "      <td>81.0</td>\n",
       "      <td>77.0</td>\n",
       "      <td>79.0</td>\n",
       "    </tr>\n",
       "  </tbody>\n",
       "</table>\n",
       "<p>761 rows × 8 columns</p>\n",
       "</div>"
      ],
      "text/plain": [
       "          date  courier_partners_online  temperature  relative_humidity  \\\n",
       "0   2021-05-01                       49    18.270000               0.57   \n",
       "1   2021-05-02                       66    19.880000               0.55   \n",
       "2   2021-05-03                       40    16.880000               0.60   \n",
       "3   2021-05-04                       51    21.880000               0.53   \n",
       "4   2021-05-05                       50    21.110000               0.54   \n",
       "..         ...                      ...          ...                ...   \n",
       "756 2023-05-27                       70    19.220000               0.56   \n",
       "757 2023-05-28                       76    27.260000               0.64   \n",
       "758 2023-05-29                       73    17.532585               0.62   \n",
       "759 2023-05-30                       81    18.350000               0.57   \n",
       "760 2023-05-31                       76    15.560000               0.62   \n",
       "\n",
       "     precipitation  partners_online_lag1  partners_online_lag7  \\\n",
       "0             0.00                   NaN                   NaN   \n",
       "1             0.00                  49.0                   NaN   \n",
       "2             0.00                  66.0                   NaN   \n",
       "3             0.00                  40.0                   NaN   \n",
       "4             0.00                  51.0                   NaN   \n",
       "..             ...                   ...                   ...   \n",
       "756           0.00                  68.0                  74.0   \n",
       "757           0.41                  70.0                  71.0   \n",
       "758           0.80                  76.0                  72.0   \n",
       "759           0.00                  73.0                  78.0   \n",
       "760           1.16                  81.0                  77.0   \n",
       "\n",
       "     partners_online_lag14  \n",
       "0                      NaN  \n",
       "1                      NaN  \n",
       "2                      NaN  \n",
       "3                      NaN  \n",
       "4                      NaN  \n",
       "..                     ...  \n",
       "756                   70.0  \n",
       "757                   73.0  \n",
       "758                   75.0  \n",
       "759                   76.0  \n",
       "760                   79.0  \n",
       "\n",
       "[761 rows x 8 columns]"
      ]
     },
     "execution_count": 23,
     "metadata": {},
     "output_type": "execute_result"
    }
   ],
   "source": [
    "data"
   ]
  },
  {
   "cell_type": "markdown",
   "id": "386c01f1",
   "metadata": {},
   "source": [
    "# Autoregressive Integrated Moving Average(ARIMA)"
   ]
  },
  {
   "cell_type": "code",
   "execution_count": 24,
   "id": "f166f0c6",
   "metadata": {},
   "outputs": [],
   "source": [
    "d1=data.head(200)"
   ]
  },
  {
   "cell_type": "code",
   "execution_count": 25,
   "id": "135378ff",
   "metadata": {},
   "outputs": [
    {
     "data": {
      "text/plain": [
       "<Axes: >"
      ]
     },
     "execution_count": 25,
     "metadata": {},
     "output_type": "execute_result"
    },
    {
     "data": {
      "image/png": "[encoded data removed]",
      "text/plain": [
       "<Figure size 640x480 with 1 Axes>"
      ]
     },
     "metadata": {},
     "output_type": "display_data"
    }
   ],
   "source": [
    "data['courier_partners_online'].plot()"
   ]
  },
  {
   "cell_type": "code",
   "execution_count": 26,
   "id": "16f43997",
   "metadata": {},
   "outputs": [
    {
     "data": {
      "text/plain": [
       "<Axes: xlabel='Lag', ylabel='Autocorrelation'>"
      ]
     },
     "execution_count": 26,
     "metadata": {},
     "output_type": "execute_result"
    },
    {
     "data": {
      "image/png": "[encoded data removed]",
      "text/plain": [
       "<Figure size 640x480 with 1 Axes>"
      ]
     },
     "metadata": {},
     "output_type": "display_data"
    }
   ],
   "source": [
    "from pandas.plotting import autocorrelation_plot\n",
    "autocorrelation_plot(data['courier_partners_online'])"
   ]
  },
  {
   "cell_type": "code",
   "execution_count": 27,
   "id": "9abc4c87",
   "metadata": {},
   "outputs": [
    {
     "data": {
      "text/plain": [
       "<Axes: xlabel='Lag', ylabel='Autocorrelation'>"
      ]
     },
     "execution_count": 27,
     "metadata": {},
     "output_type": "execute_result"
    },
    {
     "data": {
      "image/png": "[encoded data removed]",
      "text/plain": [
       "<Figure size 640x480 with 1 Axes>"
      ]
     },
     "metadata": {},
     "output_type": "display_data"
    }
   ],
   "source": [
    "from pandas.plotting import autocorrelation_plot\n",
    "autocorrelation_plot(d1['courier_partners_online'])"
   ]
  },
  {
   "cell_type": "code",
   "execution_count": 28,
   "id": "9655960b",
   "metadata": {},
   "outputs": [
    {
     "data": {
      "image/png": "[encoded data removed]",
      "text/plain": [
       "<Figure size 640x480 with 1 Axes>"
      ]
     },
     "execution_count": 28,
     "metadata": {},
     "output_type": "execute_result"
    },
    {
     "data": {
      "image/png": "[encoded data removed]",
      "text/plain": [
       "<Figure size 640x480 with 1 Axes>"
      ]
     },
     "metadata": {},
     "output_type": "display_data"
    }
   ],
   "source": [
    "from statsmodels.graphics.tsaplots import plot_pacf\n",
    "plot_pacf(data['courier_partners_online'],lags=15)\n"
   ]
  },
  {
   "cell_type": "code",
   "execution_count": 29,
   "id": "cdd41689",
   "metadata": {},
   "outputs": [],
   "source": [
    "from statsmodels.tsa.arima.model import ARIMA\n",
    "model = ARIMA(data['courier_partners_online'],order =(5,0,1))\n",
    "model=model.fit()"
   ]
  },
  {
   "cell_type": "code",
   "execution_count": 30,
   "id": "cef6ac0f",
   "metadata": {},
   "outputs": [],
   "source": [
    "residuals = model.resid"
   ]
  },
  {
   "cell_type": "code",
   "execution_count": 31,
   "id": "6e3611dd",
   "metadata": {},
   "outputs": [
    {
     "data": {
      "text/plain": [
       "<Axes: >"
      ]
     },
     "execution_count": 31,
     "metadata": {},
     "output_type": "execute_result"
    },
    {
     "data": {
      "image/png": "[encoded data removed]",
      "text/plain": [
       "<Figure size 640x480 with 1 Axes>"
      ]
     },
     "metadata": {},
     "output_type": "display_data"
    }
   ],
   "source": [
    "residuals.plot()"
   ]
  },
  {
   "cell_type": "code",
   "execution_count": 32,
   "id": "f24324ff",
   "metadata": {},
   "outputs": [],
   "source": [
    "output = model.forecast()"
   ]
  },
  {
   "cell_type": "code",
   "execution_count": 33,
   "id": "ad00b54a",
   "metadata": {},
   "outputs": [
    {
     "data": {
      "text/plain": [
       "761    72.967491\n",
       "762    72.884062\n",
       "763    72.147283\n",
       "764    73.932999\n",
       "765    75.101593\n",
       "766    75.004348\n",
       "767    74.587086\n",
       "768    73.803178\n",
       "769    73.433713\n",
       "770    73.594099\n",
       "771    73.894675\n",
       "772    74.133336\n",
       "773    74.127149\n",
       "774    73.931792\n",
       "Name: predicted_mean, dtype: float64"
      ]
     },
     "execution_count": 33,
     "metadata": {},
     "output_type": "execute_result"
    }
   ],
   "source": [
    "model.forecast(14)"
   ]
  },
  {
   "cell_type": "markdown",
   "id": "09a17f55",
   "metadata": {},
   "source": [
    "# Autoregression Model"
   ]
  },
  {
   "cell_type": "markdown",
   "id": "1ac52e93",
   "metadata": {},
   "source": [
    "Training and testing the data"
   ]
  },
  {
   "cell_type": "code",
   "execution_count": 34,
   "id": "42eb167f",
   "metadata": {},
   "outputs": [
    {
     "data": {
      "text/plain": [
       "(761, 8)"
      ]
     },
     "execution_count": 34,
     "metadata": {},
     "output_type": "execute_result"
    }
   ],
   "source": [
    "data.shape"
   ]
  },
  {
   "cell_type": "code",
   "execution_count": 35,
   "id": "4715d656",
   "metadata": {},
   "outputs": [
    {
     "data": {
      "text/plain": [
       "array([49, 66, 40, 51, 50, 47, 49, 48, 42, 48, 48, 49, 46, 47, 46, 42, 47,\n",
       "       49, 52, 55, 43, 46, 50, 45, 48, 54, 46, 46, 42, 48, 51, 51, 48, 50,\n",
       "       66, 38, 41, 47, 53, 52, 47, 44, 45, 46, 45, 51, 58, 51, 49, 43, 49,\n",
       "       55, 56, 58, 48, 46, 48, 54, 50, 52, 56, 45, 47, 66, 52, 48, 52, 58,\n",
       "       56, 49, 49, 55, 50, 61, 54, 56, 46, 48, 53, 55, 61, 58, 62, 51, 53,\n",
       "       56, 56, 65, 63, 46, 52, 55, 63, 58, 68, 62, 58, 57, 53, 63, 60, 70,\n",
       "       64, 62, 59, 54, 64, 51, 67, 65, 67, 61, 56, 66, 64, 60, 67, 58, 57,\n",
       "       52, 63, 57, 68, 70, 64, 64, 57, 57, 62, 71, 76, 71, 60, 59, 66, 67,\n",
       "       70, 68, 66, 58, 57, 61, 64, 78, 68, 66, 59, 59, 64, 66, 73, 75, 64,\n",
       "       61, 60, 69, 75, 73, 72, 60, 61, 58, 68, 71, 64, 69, 71, 60, 63, 73,\n",
       "       67, 66, 71, 69, 67, 60, 61, 67, 72, 67, 72, 60, 61, 64, 61, 67, 67,\n",
       "       59, 56, 58, 59, 65, 65, 58, 63, 60, 58, 65, 66, 65, 80, 59, 52, 61,\n",
       "       61, 56, 52, 68, 63, 59, 50, 57, 65, 65, 60, 47, 61, 54, 50, 50, 63,\n",
       "       60, 53, 59, 60, 58, 55, 54, 56, 50, 51, 53, 52, 55, 54, 62, 57, 54,\n",
       "       58, 59, 58, 55, 67, 62, 54, 43, 50, 53, 51, 61, 53, 48, 50, 55, 54,\n",
       "       57, 55, 54, 48, 54, 59, 53, 58, 59, 55, 45, 44, 56, 59, 66, 60, 50,\n",
       "       55, 46, 46, 59, 60, 69, 59, 54, 52, 57, 54, 60, 63, 50, 57, 56, 56,\n",
       "       61, 62, 65, 60, 56, 61, 64, 57, 63, 66, 60, 44, 51, 62, 64, 68, 69,\n",
       "       69, 62, 65, 63, 67, 73, 63, 67, 64, 64, 65, 69, 72, 68, 67, 65, 65,\n",
       "       68, 63, 71, 66, 64, 56, 65, 70, 70, 79, 73, 66, 68, 62, 68, 66, 67,\n",
       "       72, 74, 63, 66, 74, 68, 76, 69, 63, 61, 63, 69, 67, 72, 75, 71, 70,\n",
       "       63, 68, 70, 76, 76, 71, 62, 65, 69, 66, 73, 71, 69, 64, 63, 68, 68,\n",
       "       73, 69, 69, 63, 64, 70, 62, 71, 74, 76, 65, 66, 68, 69, 72, 73, 63,\n",
       "       63, 67, 73, 70, 70, 61, 66, 63, 59, 60, 67, 71, 69, 67, 56, 63, 59,\n",
       "       65, 73, 69, 60, 63, 62, 65, 70, 64, 71, 59, 63, 68, 64, 70, 67, 67,\n",
       "       68, 54, 67, 71, 70, 72, 69, 68, 63, 61, 73, 69, 77, 70, 63, 68, 66,\n",
       "       70, 64, 67, 67, 62, 57, 59, 60, 73, 67, 67, 71, 63, 57, 72, 73, 80,\n",
       "       77, 71, 66, 73, 77, 72, 82, 84, 69, 64, 67, 72, 77, 76, 75, 79, 62,\n",
       "       70, 70, 74, 72, 79, 68, 69, 72, 72, 75, 74, 79, 74, 67, 76, 71, 81,\n",
       "       79, 79, 76, 71, 71, 71, 74, 83, 80, 80, 72, 69, 77, 81, 83, 81, 83,\n",
       "       73, 77, 82, 81, 80, 82, 70, 72, 69, 75, 82, 86, 80, 80, 74, 67, 76,\n",
       "       77, 76, 81, 72, 68, 72, 79, 82, 83, 82, 74, 71, 76, 71, 71, 84, 78,\n",
       "       75, 69, 77, 70, 74, 83, 77, 70, 67, 69, 66, 77, 79, 75, 69, 69, 68,\n",
       "       75, 77, 71, 75, 75, 66, 65, 66, 72, 74, 74, 69, 70, 68, 73, 75, 73,\n",
       "       73, 70, 61, 58, 63, 69, 65, 67, 66, 65, 69, 72, 69, 71, 76, 65, 58,\n",
       "       63, 64, 62, 65, 73, 66, 64, 57, 65, 61, 73, 73, 72, 58, 63, 55, 58,\n",
       "       63, 66, 60, 51, 57, 65, 61, 65, 64, 55, 57, 51, 53, 61, 62, 59, 57,\n",
       "       47, 53, 61, 56, 61, 66, 66, 52, 52, 62, 57, 52, 68, 68, 64, 65, 64,\n",
       "       65, 67, 65, 65, 62, 59, 63, 69, 74, 66, 65, 65, 62, 70, 68, 65, 77,\n",
       "       66, 57, 60, 64, 66, 75, 79, 80, 69, 69, 79, 72, 84, 77, 72, 68, 69,\n",
       "       81, 74, 82, 80, 72, 68, 71, 74, 73, 72, 76, 70, 69, 68, 76, 72, 72,\n",
       "       78, 78, 70, 77, 72, 83, 84, 83, 73, 71, 72, 79, 79, 80, 83, 71, 73,\n",
       "       66, 80, 76, 82, 83, 78, 67, 63, 79, 79, 73, 86, 76, 74, 73, 77, 79,\n",
       "       80, 73, 72, 66, 70, 75, 68, 75, 81, 70, 70, 70, 73, 75, 76, 79, 70,\n",
       "       72, 74, 71, 72, 78, 77, 77, 68, 70, 76, 73, 81, 76], dtype=int64)"
      ]
     },
     "execution_count": 35,
     "metadata": {},
     "output_type": "execute_result"
    }
   ],
   "source": [
    "x =data['courier_partners_online'].values\n",
    "x"
   ]
  },
  {
   "cell_type": "code",
   "execution_count": 36,
   "id": "0a7518b0",
   "metadata": {},
   "outputs": [
    {
     "data": {
      "text/plain": [
       "761"
      ]
     },
     "execution_count": 36,
     "metadata": {},
     "output_type": "execute_result"
    }
   ],
   "source": [
    "len(x)"
   ]
  },
  {
   "cell_type": "code",
   "execution_count": 37,
   "id": "4cddbe12",
   "metadata": {},
   "outputs": [
    {
     "data": {
      "text/plain": [
       "754"
      ]
     },
     "execution_count": 37,
     "metadata": {},
     "output_type": "execute_result"
    }
   ],
   "source": [
    "len(x) - 7"
   ]
  },
  {
   "cell_type": "code",
   "execution_count": 38,
   "id": "5fb26426",
   "metadata": {},
   "outputs": [
    {
     "data": {
      "text/plain": [
       "array([77, 68, 70, 76, 73, 81, 76], dtype=int64)"
      ]
     },
     "execution_count": 38,
     "metadata": {},
     "output_type": "execute_result"
    }
   ],
   "source": [
    "x[len(x) - 7:]"
   ]
  },
  {
   "cell_type": "code",
   "execution_count": 39,
   "id": "544d88be",
   "metadata": {},
   "outputs": [
    {
     "data": {
      "text/plain": [
       "754"
      ]
     },
     "execution_count": 39,
     "metadata": {},
     "output_type": "execute_result"
    }
   ],
   "source": [
    "len(x[0:len(x)-7])"
   ]
  },
  {
   "cell_type": "code",
   "execution_count": 40,
   "id": "f2c4ce87",
   "metadata": {},
   "outputs": [],
   "source": [
    "train,test = x[0:len(x)-7],x[len(x) - 7:]"
   ]
  },
  {
   "cell_type": "code",
   "execution_count": 41,
   "id": "68c4e612",
   "metadata": {},
   "outputs": [
    {
     "data": {
      "text/plain": [
       "array([49, 66, 40, 51, 50, 47, 49, 48, 42, 48, 48, 49, 46, 47, 46, 42, 47,\n",
       "       49, 52, 55, 43, 46, 50, 45, 48, 54, 46, 46, 42, 48, 51, 51, 48, 50,\n",
       "       66, 38, 41, 47, 53, 52, 47, 44, 45, 46, 45, 51, 58, 51, 49, 43, 49,\n",
       "       55, 56, 58, 48, 46, 48, 54, 50, 52, 56, 45, 47, 66, 52, 48, 52, 58,\n",
       "       56, 49, 49, 55, 50, 61, 54, 56, 46, 48, 53, 55, 61, 58, 62, 51, 53,\n",
       "       56, 56, 65, 63, 46, 52, 55, 63, 58, 68, 62, 58, 57, 53, 63, 60, 70,\n",
       "       64, 62, 59, 54, 64, 51, 67, 65, 67, 61, 56, 66, 64, 60, 67, 58, 57,\n",
       "       52, 63, 57, 68, 70, 64, 64, 57, 57, 62, 71, 76, 71, 60, 59, 66, 67,\n",
       "       70, 68, 66, 58, 57, 61, 64, 78, 68, 66, 59, 59, 64, 66, 73, 75, 64,\n",
       "       61, 60, 69, 75, 73, 72, 60, 61, 58, 68, 71, 64, 69, 71, 60, 63, 73,\n",
       "       67, 66, 71, 69, 67, 60, 61, 67, 72, 67, 72, 60, 61, 64, 61, 67, 67,\n",
       "       59, 56, 58, 59, 65, 65, 58, 63, 60, 58, 65, 66, 65, 80, 59, 52, 61,\n",
       "       61, 56, 52, 68, 63, 59, 50, 57, 65, 65, 60, 47, 61, 54, 50, 50, 63,\n",
       "       60, 53, 59, 60, 58, 55, 54, 56, 50, 51, 53, 52, 55, 54, 62, 57, 54,\n",
       "       58, 59, 58, 55, 67, 62, 54, 43, 50, 53, 51, 61, 53, 48, 50, 55, 54,\n",
       "       57, 55, 54, 48, 54, 59, 53, 58, 59, 55, 45, 44, 56, 59, 66, 60, 50,\n",
       "       55, 46, 46, 59, 60, 69, 59, 54, 52, 57, 54, 60, 63, 50, 57, 56, 56,\n",
       "       61, 62, 65, 60, 56, 61, 64, 57, 63, 66, 60, 44, 51, 62, 64, 68, 69,\n",
       "       69, 62, 65, 63, 67, 73, 63, 67, 64, 64, 65, 69, 72, 68, 67, 65, 65,\n",
       "       68, 63, 71, 66, 64, 56, 65, 70, 70, 79, 73, 66, 68, 62, 68, 66, 67,\n",
       "       72, 74, 63, 66, 74, 68, 76, 69, 63, 61, 63, 69, 67, 72, 75, 71, 70,\n",
       "       63, 68, 70, 76, 76, 71, 62, 65, 69, 66, 73, 71, 69, 64, 63, 68, 68,\n",
       "       73, 69, 69, 63, 64, 70, 62, 71, 74, 76, 65, 66, 68, 69, 72, 73, 63,\n",
       "       63, 67, 73, 70, 70, 61, 66, 63, 59, 60, 67, 71, 69, 67, 56, 63, 59,\n",
       "       65, 73, 69, 60, 63, 62, 65, 70, 64, 71, 59, 63, 68, 64, 70, 67, 67,\n",
       "       68, 54, 67, 71, 70, 72, 69, 68, 63, 61, 73, 69, 77, 70, 63, 68, 66,\n",
       "       70, 64, 67, 67, 62, 57, 59, 60, 73, 67, 67, 71, 63, 57, 72, 73, 80,\n",
       "       77, 71, 66, 73, 77, 72, 82, 84, 69, 64, 67, 72, 77, 76, 75, 79, 62,\n",
       "       70, 70, 74, 72, 79, 68, 69, 72, 72, 75, 74, 79, 74, 67, 76, 71, 81,\n",
       "       79, 79, 76, 71, 71, 71, 74, 83, 80, 80, 72, 69, 77, 81, 83, 81, 83,\n",
       "       73, 77, 82, 81, 80, 82, 70, 72, 69, 75, 82, 86, 80, 80, 74, 67, 76,\n",
       "       77, 76, 81, 72, 68, 72, 79, 82, 83, 82, 74, 71, 76, 71, 71, 84, 78,\n",
       "       75, 69, 77, 70, 74, 83, 77, 70, 67, 69, 66, 77, 79, 75, 69, 69, 68,\n",
       "       75, 77, 71, 75, 75, 66, 65, 66, 72, 74, 74, 69, 70, 68, 73, 75, 73,\n",
       "       73, 70, 61, 58, 63, 69, 65, 67, 66, 65, 69, 72, 69, 71, 76, 65, 58,\n",
       "       63, 64, 62, 65, 73, 66, 64, 57, 65, 61, 73, 73, 72, 58, 63, 55, 58,\n",
       "       63, 66, 60, 51, 57, 65, 61, 65, 64, 55, 57, 51, 53, 61, 62, 59, 57,\n",
       "       47, 53, 61, 56, 61, 66, 66, 52, 52, 62, 57, 52, 68, 68, 64, 65, 64,\n",
       "       65, 67, 65, 65, 62, 59, 63, 69, 74, 66, 65, 65, 62, 70, 68, 65, 77,\n",
       "       66, 57, 60, 64, 66, 75, 79, 80, 69, 69, 79, 72, 84, 77, 72, 68, 69,\n",
       "       81, 74, 82, 80, 72, 68, 71, 74, 73, 72, 76, 70, 69, 68, 76, 72, 72,\n",
       "       78, 78, 70, 77, 72, 83, 84, 83, 73, 71, 72, 79, 79, 80, 83, 71, 73,\n",
       "       66, 80, 76, 82, 83, 78, 67, 63, 79, 79, 73, 86, 76, 74, 73, 77, 79,\n",
       "       80, 73, 72, 66, 70, 75, 68, 75, 81, 70, 70, 70, 73, 75, 76, 79, 70,\n",
       "       72, 74, 71, 72, 78, 77], dtype=int64)"
      ]
     },
     "execution_count": 41,
     "metadata": {},
     "output_type": "execute_result"
    }
   ],
   "source": [
    "train"
   ]
  },
  {
   "cell_type": "code",
   "execution_count": 42,
   "id": "1ea5e8f2",
   "metadata": {},
   "outputs": [
    {
     "data": {
      "text/plain": [
       "array([77, 68, 70, 76, 73, 81, 76], dtype=int64)"
      ]
     },
     "execution_count": 42,
     "metadata": {},
     "output_type": "execute_result"
    }
   ],
   "source": [
    "test"
   ]
  },
  {
   "cell_type": "code",
   "execution_count": 43,
   "id": "c2be0d17",
   "metadata": {},
   "outputs": [
    {
     "data": {
      "text/plain": [
       "(754,)"
      ]
     },
     "execution_count": 43,
     "metadata": {},
     "output_type": "execute_result"
    }
   ],
   "source": [
    "train.shape"
   ]
  },
  {
   "cell_type": "code",
   "execution_count": 44,
   "id": "c6a3f4d7",
   "metadata": {},
   "outputs": [
    {
     "data": {
      "text/plain": [
       "(7,)"
      ]
     },
     "execution_count": 44,
     "metadata": {},
     "output_type": "execute_result"
    }
   ],
   "source": [
    "test.shape"
   ]
  },
  {
   "cell_type": "code",
   "execution_count": 45,
   "id": "93ac6edd",
   "metadata": {},
   "outputs": [],
   "source": [
    "from statsmodels.tsa.ar_model import AutoReg\n",
    "AR = AutoReg(train,lags = 30)\n",
    "AR_model_fit=AR.fit()\n"
   ]
  },
  {
   "cell_type": "markdown",
   "id": "bb96e516",
   "metadata": {},
   "source": [
    "# Predicting the model"
   ]
  },
  {
   "cell_type": "code",
   "execution_count": 46,
   "id": "f593b524",
   "metadata": {},
   "outputs": [
    {
     "data": {
      "text/plain": [
       "array([72.53353356, 69.88229833, 72.33988428, 73.92559998, 74.80219796,\n",
       "       76.27615407, 75.78199726, 72.5191601 , 70.8821018 , 70.65856598,\n",
       "       72.56964158, 74.19056925, 75.89565415, 75.82528036, 72.03086864,\n",
       "       70.37675651, 71.34738177, 72.36581048, 74.04844251, 75.45680103,\n",
       "       74.98591407, 72.34218257])"
      ]
     },
     "execution_count": 46,
     "metadata": {},
     "output_type": "execute_result"
    }
   ],
   "source": [
    "prediction = AR_model_fit.predict(start=len(train),end=len(train)+len(test)+14)\n",
    "prediction"
   ]
  },
  {
   "cell_type": "code",
   "execution_count": 47,
   "id": "754a8faf",
   "metadata": {},
   "outputs": [
    {
     "data": {
      "text/plain": [
       "array([72.53353356, 69.88229833, 72.33988428, 73.92559998, 74.80219796,\n",
       "       76.27615407, 75.78199726])"
      ]
     },
     "execution_count": 47,
     "metadata": {},
     "output_type": "execute_result"
    }
   ],
   "source": [
    "s=prediction[:7]\n",
    "s"
   ]
  },
  {
   "cell_type": "code",
   "execution_count": 48,
   "id": "0fd9a0ed",
   "metadata": {},
   "outputs": [
    {
     "name": "stdout",
     "output_type": "stream",
     "text": [
      "754\n"
     ]
    }
   ],
   "source": [
    "print(len(train))"
   ]
  },
  {
   "cell_type": "code",
   "execution_count": 49,
   "id": "30592733",
   "metadata": {},
   "outputs": [
    {
     "name": "stdout",
     "output_type": "stream",
     "text": [
      "6\n"
     ]
    }
   ],
   "source": [
    "print(len(test)-1)"
   ]
  },
  {
   "cell_type": "code",
   "execution_count": 50,
   "id": "c761550a",
   "metadata": {},
   "outputs": [
    {
     "name": "stdout",
     "output_type": "stream",
     "text": [
      "760\n"
     ]
    }
   ],
   "source": [
    "print(len(train)+len(test)-1)"
   ]
  },
  {
   "cell_type": "code",
   "execution_count": 51,
   "id": "d0e8aa31",
   "metadata": {},
   "outputs": [
    {
     "data": {
      "text/plain": [
       "22"
      ]
     },
     "execution_count": 51,
     "metadata": {},
     "output_type": "execute_result"
    }
   ],
   "source": [
    "len(prediction)"
   ]
  },
  {
   "cell_type": "code",
   "execution_count": 52,
   "id": "eb77c87f",
   "metadata": {},
   "outputs": [
    {
     "data": {
      "text/plain": [
       "7"
      ]
     },
     "execution_count": 52,
     "metadata": {},
     "output_type": "execute_result"
    }
   ],
   "source": [
    "len(s)"
   ]
  },
  {
   "cell_type": "markdown",
   "id": "4ceee4f8",
   "metadata": {},
   "source": [
    "let's compare the prediced value and the expected value"
   ]
  },
  {
   "cell_type": "code",
   "execution_count": 53,
   "id": "ff7bb2c6",
   "metadata": {},
   "outputs": [
    {
     "name": "stdout",
     "output_type": "stream",
     "text": [
      "predicted value 72.53353356475323 , expected value 77\n",
      "predicted value 69.88229833272376 , expected value 68\n",
      "predicted value 72.33988428111068 , expected value 70\n",
      "predicted value 73.92559997829079 , expected value 76\n",
      "predicted value 74.80219796307938 , expected value 73\n",
      "predicted value 76.27615407160084 , expected value 81\n",
      "predicted value 75.78199726413894 , expected value 76\n"
     ]
    }
   ],
   "source": [
    "for i in range (len(s)):\n",
    "    print('predicted value',prediction[i] ,',','expected value',test[i])"
   ]
  },
  {
   "cell_type": "code",
   "execution_count": 54,
   "id": "29516c8f",
   "metadata": {},
   "outputs": [
    {
     "name": "stdout",
     "output_type": "stream",
     "text": [
      "rmse  =:2.9003\n"
     ]
    }
   ],
   "source": [
    "from sklearn.metrics import mean_squared_error\n",
    "from numpy import sqrt\n",
    "rmse=sqrt(mean_squared_error(test,s))\n",
    "print(\"rmse  =:%.4f\"% rmse )\n"
   ]
  },
  {
   "cell_type": "code",
   "execution_count": 55,
   "id": "7c4d0b49",
   "metadata": {},
   "outputs": [
    {
     "data": {
      "image/png": "[encoded data removed]",
      "text/plain": [
       "<Figure size 640x480 with 1 Axes>"
      ]
     },
     "metadata": {},
     "output_type": "display_data"
    }
   ],
   "source": [
    "plt.plot(test,color='black',label='test')\n",
    "plt.plot(s,color='red',label='prediction')\n",
    "plt.legend()\n",
    "plt.show()"
   ]
  },
  {
   "cell_type": "code",
   "execution_count": null,
   "id": "43e00b28",
   "metadata": {},
   "outputs": [],
   "source": []
  },
  {
   "cell_type": "code",
   "execution_count": null,
   "id": "d9d455fd",
   "metadata": {},
   "outputs": [],
   "source": []
  }
 ],
 "metadata": {
  "kernelspec": {
   "display_name": "Python 3 (ipykernel)",
   "language": "python",
   "name": "python3"
  },
  "language_info": {
   "codemirror_mode": {
    "name": "ipython",
    "version": 3
   },
   "file_extension": ".py",
   "mimetype": "text/x-python",
   "name": "python",
   "nbconvert_exporter": "python",
   "pygments_lexer": "ipython3",
   "version": "3.11.5"
  }
 },
 "nbformat": 4,
 "nbformat_minor": 5
}
